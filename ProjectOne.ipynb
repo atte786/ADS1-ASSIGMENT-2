{
 "cells": [
  {
   "cell_type": "markdown",
   "metadata": {},
   "source": [
    "# Introduction"
   ]
  },
  {
   "cell_type": "markdown",
   "metadata": {},
   "source": [
    "### 1.1 Import Libraries and Data"
   ]
  },
  {
   "cell_type": "code",
   "execution_count": 1,
   "metadata": {},
   "outputs": [],
   "source": [
    "'''\n",
    "Here we are importing three main libraries\n",
    "required libraries \n",
    "pandas for data frames\n",
    "numpy for numerical calculation\n",
    "warning for ignoring warning\n",
    "'''\n",
    "import pandas as pd\n",
    "import numpy as np\n",
    "import warnings"
   ]
  },
  {
   "cell_type": "code",
   "execution_count": 2,
   "metadata": {},
   "outputs": [],
   "source": [
    "'''install country-list pip package that is being used '''\n",
    "if False:\n",
    "    !pip install country-list"
   ]
  },
  {
   "cell_type": "code",
   "execution_count": 3,
   "metadata": {},
   "outputs": [],
   "source": [
    "from functools import reduce\n",
    "from scipy import stats\n",
    "from country_list import countries_for_language\n",
    "from sklearn.preprocessing import OneHotEncoder"
   ]
  },
  {
   "cell_type": "code",
   "execution_count": 4,
   "metadata": {},
   "outputs": [],
   "source": [
    "#importing matplotlib for inline display of output\n",
    "import matplotlib.pyplot as plt\n",
    "import seaborn as sns\n",
    "\n",
    "%matplotlib inline"
   ]
  },
  {
   "cell_type": "code",
   "execution_count": 5,
   "metadata": {},
   "outputs": [],
   "source": [
    "#removing warnings\n",
    "warnings.filterwarnings(\"ignore\")\n",
    "pd.options.mode.chained_assignment = None"
   ]
  },
  {
   "cell_type": "code",
   "execution_count": 6,
   "metadata": {},
   "outputs": [],
   "source": [
    "#importing data-sheets into dataSet\n",
    "sheet1 = pd.read_excel(io=\"./data.xls\", sheet_name=\"GDP\", names=[\"Name\",\"Code\",\"GDP2015\",\"GDP2016\",\"GDP2017\"])\n",
    "sheet2 = pd.read_excel(io=\"./data.xls\", sheet_name=\"Total_Population\", names=[\"NameA\",\"Code\",\"TP2015\",\"TP2016\",\"TP2017\"])\n",
    "sheet3 = pd.read_excel(io=\"./data.xls\", sheet_name=\"Female_Population_Percentage\", names=[\"NameB\",\"Code\",\"FPP2015\",\"FPP2016\",\"FPP2017\"])\n",
    "sheet4 = pd.read_excel(io=\"./data.xls\", sheet_name=\"Countries\", names=[\"Code\",\"Region\",\"IncomeGroup\",\"Note\",\"NameC\"])"
   ]
  },
  {
   "cell_type": "code",
   "execution_count": 7,
   "metadata": {},
   "outputs": [],
   "source": [
    "#creating single DataSet_df\n",
    "DataSet_df = reduce(lambda left,right: pd.merge(left,right, on=[\"Code\"]), [sheet1, sheet2, sheet3, sheet4])"
   ]
  },
  {
   "cell_type": "code",
   "execution_count": 8,
   "metadata": {},
   "outputs": [
    {
     "data": {
      "text/html": [
       "<div>\n",
       "<style scoped>\n",
       "    .dataframe tbody tr th:only-of-type {\n",
       "        vertical-align: middle;\n",
       "    }\n",
       "\n",
       "    .dataframe tbody tr th {\n",
       "        vertical-align: top;\n",
       "    }\n",
       "\n",
       "    .dataframe thead th {\n",
       "        text-align: right;\n",
       "    }\n",
       "</style>\n",
       "<table border=\"1\" class=\"dataframe\">\n",
       "  <thead>\n",
       "    <tr style=\"text-align: right;\">\n",
       "      <th></th>\n",
       "      <th>Name</th>\n",
       "      <th>Code</th>\n",
       "      <th>GDP2015</th>\n",
       "      <th>GDP2016</th>\n",
       "      <th>GDP2017</th>\n",
       "      <th>NameA</th>\n",
       "      <th>TP2015</th>\n",
       "      <th>TP2016</th>\n",
       "      <th>TP2017</th>\n",
       "      <th>NameB</th>\n",
       "      <th>FPP2015</th>\n",
       "      <th>FPP2016</th>\n",
       "      <th>FPP2017</th>\n",
       "      <th>Region</th>\n",
       "      <th>IncomeGroup</th>\n",
       "      <th>Note</th>\n",
       "      <th>NameC</th>\n",
       "    </tr>\n",
       "  </thead>\n",
       "  <tbody>\n",
       "    <tr>\n",
       "      <th>0</th>\n",
       "      <td>Afghanistan</td>\n",
       "      <td>AFG</td>\n",
       "      <td>1.990711e+10</td>\n",
       "      <td>1.936264e+10</td>\n",
       "      <td>2.019176e+10</td>\n",
       "      <td>Afghanistan</td>\n",
       "      <td>34413603.0</td>\n",
       "      <td>35383128.0</td>\n",
       "      <td>36296400.0</td>\n",
       "      <td>Afghanistan</td>\n",
       "      <td>48.607049</td>\n",
       "      <td>48.599668</td>\n",
       "      <td>48.611616</td>\n",
       "      <td>South Asia</td>\n",
       "      <td>Low income</td>\n",
       "      <td>NaN</td>\n",
       "      <td>Afghanistan</td>\n",
       "    </tr>\n",
       "    <tr>\n",
       "      <th>1</th>\n",
       "      <td>Albania</td>\n",
       "      <td>ALB</td>\n",
       "      <td>1.138693e+10</td>\n",
       "      <td>1.186135e+10</td>\n",
       "      <td>1.302506e+10</td>\n",
       "      <td>Albania</td>\n",
       "      <td>2880703.0</td>\n",
       "      <td>2876101.0</td>\n",
       "      <td>2873457.0</td>\n",
       "      <td>Albania</td>\n",
       "      <td>49.093798</td>\n",
       "      <td>49.052999</td>\n",
       "      <td>49.046398</td>\n",
       "      <td>Europe &amp; Central Asia</td>\n",
       "      <td>Upper middle income</td>\n",
       "      <td>NaN</td>\n",
       "      <td>Albania</td>\n",
       "    </tr>\n",
       "    <tr>\n",
       "      <th>2</th>\n",
       "      <td>Algeria</td>\n",
       "      <td>DZA</td>\n",
       "      <td>1.659793e+11</td>\n",
       "      <td>1.601299e+11</td>\n",
       "      <td>1.675553e+11</td>\n",
       "      <td>Algeria</td>\n",
       "      <td>39728025.0</td>\n",
       "      <td>40551404.0</td>\n",
       "      <td>41389198.0</td>\n",
       "      <td>Algeria</td>\n",
       "      <td>49.496877</td>\n",
       "      <td>49.491505</td>\n",
       "      <td>49.487380</td>\n",
       "      <td>Middle East &amp; North Africa</td>\n",
       "      <td>Upper middle income</td>\n",
       "      <td>NaN</td>\n",
       "      <td>Algeria</td>\n",
       "    </tr>\n",
       "  </tbody>\n",
       "</table>\n",
       "</div>"
      ],
      "text/plain": [
       "          Name Code       GDP2015       GDP2016       GDP2017        NameA  \\\n",
       "0  Afghanistan  AFG  1.990711e+10  1.936264e+10  2.019176e+10  Afghanistan   \n",
       "1      Albania  ALB  1.138693e+10  1.186135e+10  1.302506e+10      Albania   \n",
       "2      Algeria  DZA  1.659793e+11  1.601299e+11  1.675553e+11      Algeria   \n",
       "\n",
       "       TP2015      TP2016      TP2017        NameB    FPP2015    FPP2016  \\\n",
       "0  34413603.0  35383128.0  36296400.0  Afghanistan  48.607049  48.599668   \n",
       "1   2880703.0   2876101.0   2873457.0      Albania  49.093798  49.052999   \n",
       "2  39728025.0  40551404.0  41389198.0      Algeria  49.496877  49.491505   \n",
       "\n",
       "     FPP2017                      Region          IncomeGroup Note  \\\n",
       "0  48.611616                  South Asia           Low income  NaN   \n",
       "1  49.046398       Europe & Central Asia  Upper middle income  NaN   \n",
       "2  49.487380  Middle East & North Africa  Upper middle income  NaN   \n",
       "\n",
       "         NameC  \n",
       "0  Afghanistan  \n",
       "1      Albania  \n",
       "2      Algeria  "
      ]
     },
     "execution_count": 8,
     "metadata": {},
     "output_type": "execute_result"
    }
   ],
   "source": [
    "DataSet_df.head(3)"
   ]
  },
  {
   "cell_type": "code",
   "execution_count": 9,
   "metadata": {},
   "outputs": [],
   "source": [
    "#creating female population data based on female population percentage \n",
    "DataSet_df[\"FP2015\"] = DataSet_df.apply(lambda row: (row.TP2015*row.FPP2015)/100, axis=1)\n",
    "DataSet_df[\"FP2016\"] = DataSet_df.apply(lambda row: (row.TP2016*row.FPP2016)/100, axis=1)\n",
    "DataSet_df[\"FP2017\"] = DataSet_df.apply(lambda row: (row.TP2017*row.FPP2017)/100, axis=1)"
   ]
  },
  {
   "cell_type": "code",
   "execution_count": 10,
   "metadata": {},
   "outputs": [],
   "source": [
    "'''creating male population data based on female population'''\n",
    "DataSet_df[\"MP2015\"] = DataSet_df.apply(lambda row: (row.TP2015-row.FP2015), axis=1)\n",
    "DataSet_df[\"MP2016\"] = DataSet_df.apply(lambda row: (row.TP2016-row.FP2016), axis=1)\n",
    "DataSet_df[\"MP2017\"] = DataSet_df.apply(lambda row: (row.TP2017-row.FP2017), axis=1)"
   ]
  },
  {
   "cell_type": "code",
   "execution_count": 11,
   "metadata": {},
   "outputs": [],
   "source": [
    "#droping non-beneficial columns\n",
    "DataSet_df.drop([\"FPP2015\",\"FPP2016\",\"FPP2017\",\"NameA\",\"NameB\",\"NameC\"], axis=1, inplace=True)"
   ]
  },
  {
   "cell_type": "markdown",
   "metadata": {},
   "source": [
    "List of all countries with names(ISO 3166-1) are imported and cross dataed with DataSet_df country name to understand the relationship between the country and other variables."
   ]
  },
  {
   "cell_type": "code",
   "execution_count": 12,
   "metadata": {},
   "outputs": [],
   "source": [
    "#fetching country list\n",
    "countries = list(dict(countries_for_language('en')).values())\n",
    "\n",
    "#defining clean dataframe based on recognised country name\n",
    "data = DataSet_df[DataSet_df[\"Name\"].isin(countries)]\n",
    "other = DataSet_df[~DataSet_df[\"Name\"].isin(countries)]"
   ]
  },
  {
   "cell_type": "code",
   "execution_count": 13,
   "metadata": {},
   "outputs": [],
   "source": [
    "#defining new views of the data\n",
    "Y2015 = data[[\"Name\",\"Code\",\"GDP2015\",\"TP2015\",\"FP2015\",\"MP2015\"]]\n",
    "Y2016 = data[[\"Name\",\"Code\",\"GDP2016\",\"TP2016\",\"FP2016\",\"MP2016\"]]\n",
    "Y2017 = data[[\"Name\",\"Code\",\"GDP2017\",\"TP2017\",\"FP2017\",\"MP2017\"]]\n",
    "GDP   = data[[\"Name\",\"Code\",\"GDP2015\",\"GDP2016\",\"GDP2017\",\"Region\",\"IncomeGroup\",\"Note\"]]"
   ]
  },
  {
   "cell_type": "code",
   "execution_count": 14,
   "metadata": {},
   "outputs": [],
   "source": [
    "#creating mapper for IncomeGroup\n",
    "IncomeGroupMapper = {\"High income\":4,\n",
    "                     \"Upper middle income\":3,\n",
    "                     \"Lower middle income\":2,\n",
    "                     \"Low income\":1,\n",
    "                     }"
   ]
  },
  {
   "cell_type": "code",
   "execution_count": 15,
   "metadata": {},
   "outputs": [],
   "source": [
    "#mapping IncomeGroup based on IncomeGroupMapper\n",
    "data.replace({\"IncomeGroup\": IncomeGroupMapper}, inplace=True)"
   ]
  },
  {
   "cell_type": "code",
   "execution_count": 16,
   "metadata": {},
   "outputs": [],
   "source": [
    "#fetching shape of the data\n",
    "row, column = data.shape"
   ]
  },
  {
   "cell_type": "code",
   "execution_count": 17,
   "metadata": {},
   "outputs": [
    {
     "name": "stdout",
     "output_type": "stream",
     "text": [
      "Usefulness % of a column in the dataset :\n"
     ]
    },
    {
     "data": {
      "text/plain": [
       "Name           100.00\n",
       "Code           100.00\n",
       "GDP2015         96.11\n",
       "GDP2016         96.11\n",
       "GDP2017         93.89\n",
       "TP2015          99.44\n",
       "TP2016          99.44\n",
       "TP2017          99.44\n",
       "Region         100.00\n",
       "IncomeGroup    100.00\n",
       "Note            28.33\n",
       "FP2015          89.44\n",
       "FP2016          89.44\n",
       "FP2017          89.44\n",
       "MP2015          89.44\n",
       "MP2016          89.44\n",
       "MP2017          89.44\n",
       "dtype: float64"
      ]
     },
     "execution_count": 17,
     "metadata": {},
     "output_type": "execute_result"
    }
   ],
   "source": [
    "#calculating usefulness of DataSet_df columns\n",
    "print(\"Usefulness % of a column in the dataset :\")\n",
    "round(((row - data.isnull().sum()) / row) * 100 , 2)"
   ]
  },
  {
   "cell_type": "markdown",
   "metadata": {},
   "source": [
    "Since all of the data belong to real incidents and contain nonnumeric values, finding usefulness in percentages can help us to identify which fields should be used for analysis. Field with a lot of empty values does not provide much information about trends over time, with some exceptions. "
   ]
  },
  {
   "cell_type": "code",
   "execution_count": 18,
   "metadata": {},
   "outputs": [],
   "source": [
    "#filling NAN value\n",
    "for columnName in ['GDP2015','GDP2016','GDP2017','TP2015','TP2016','TP2017','FP2015','FP2016','FP2017','MP2015','MP2016','MP2017']:\n",
    "    data[columnName].fillna(data[columnName].median(), inplace=True)"
   ]
  },
  {
   "cell_type": "markdown",
   "metadata": {},
   "source": [
    "### 1.3 General Observations"
   ]
  },
  {
   "cell_type": "code",
   "execution_count": 19,
   "metadata": {},
   "outputs": [
    {
     "name": "stdout",
     "output_type": "stream",
     "text": [
      "Data source contain Rows 180 - Columns 17\n"
     ]
    }
   ],
   "source": [
    "print(\"Data source contain Rows {} - Columns {}\".format(data.shape[0], data.shape[1]))"
   ]
  },
  {
   "cell_type": "code",
   "execution_count": 20,
   "metadata": {},
   "outputs": [
    {
     "name": "stdout",
     "output_type": "stream",
     "text": [
      "Country with maximum GDP in 2015-United States, 2016-United States, and 2017-United States.\n"
     ]
    }
   ],
   "source": [
    "country2015 = GDP[GDP[\"GDP2015\"]==GDP[\"GDP2015\"].max()]\n",
    "country2016 = GDP[GDP[\"GDP2016\"]==GDP[\"GDP2016\"].max()]\n",
    "country2017 = GDP[GDP[\"GDP2017\"]==GDP[\"GDP2017\"].max()]\n",
    "\n",
    "print(\"Country with maximum GDP in 2015-{}, 2016-{}, and 2017-{}.\".format(country2015[\"Name\"].values[0],country2016[\"Name\"].values[0],country2016[\"Name\"].values[0]))"
   ]
  },
  {
   "cell_type": "code",
   "execution_count": 21,
   "metadata": {},
   "outputs": [
    {
     "name": "stdout",
     "output_type": "stream",
     "text": [
      "Country with maximum GDP in 2015-Tuvalu, 2016-Tuvalu, and 2017-Tuvalu.\n"
     ]
    }
   ],
   "source": [
    "country2015 = GDP[GDP[\"GDP2015\"]==GDP[\"GDP2015\"].min()]\n",
    "country2016 = GDP[GDP[\"GDP2016\"]==GDP[\"GDP2016\"].min()]\n",
    "country2017 = GDP[GDP[\"GDP2017\"]==GDP[\"GDP2017\"].min()]\n",
    "\n",
    "print(\"Country with maximum GDP in 2015-{}, 2016-{}, and 2017-{}.\".format(country2015[\"Name\"].values[0],country2016[\"Name\"].values[0],country2016[\"Name\"].values[0]))"
   ]
  },
  {
   "cell_type": "code",
   "execution_count": 22,
   "metadata": {},
   "outputs": [
    {
     "data": {
      "image/png": "[encoded data removed]",
      "text/plain": [
       "<Figure size 1512x432 with 3 Axes>"
      ]
     },
     "metadata": {
      "needs_background": "light"
     },
     "output_type": "display_data"
    }
   ],
   "source": [
    "plt.figure(figsize=(21,6))\n",
    "\n",
    "#Frequency vs GDP-2015\n",
    "plt.subplot(1, 3, 1)\n",
    "plt.hist(data[\"GDP2015\"])\n",
    "plt.xlabel('GDP - 2015')\n",
    "plt.ylabel('Frequency')\n",
    "\n",
    "#Frequency vs GDP-2016\n",
    "plt.subplot(1, 3, 2)\n",
    "plt.hist(data[\"GDP2016\"])\n",
    "plt.xlabel('GDP - 2016')\n",
    "plt.ylabel('Frequency')\n",
    "\n",
    "#Frequency vs GDP-2017\n",
    "plt.subplot(1, 3, 3)\n",
    "plt.hist(data[\"GDP2017\"])\n",
    "plt.xlabel('GDP - 2017')\n",
    "plt.ylabel('Frequency')\n",
    "\n",
    "plt.show()"
   ]
  },
  {
   "cell_type": "code",
   "execution_count": 23,
   "metadata": {},
   "outputs": [],
   "source": [
    "#performing transformation\n",
    "for columnName in ['GDP2015','GDP2016','GDP2017','TP2015','TP2016','TP2017','FP2015','FP2016','FP2017','MP2015','MP2016','MP2017']:\n",
    "    data[columnName] = data[columnName].apply(np.log)"
   ]
  },
  {
   "cell_type": "code",
   "execution_count": 24,
   "metadata": {},
   "outputs": [
    {
     "data": {
      "image/png": "[encoded data removed]",
      "text/plain": [
       "<Figure size 1512x432 with 3 Axes>"
      ]
     },
     "metadata": {
      "needs_background": "light"
     },
     "output_type": "display_data"
    }
   ],
   "source": [
    "plt.figure(figsize=(21,6))\n",
    "\n",
    "#Frequency vs GDP-2015\n",
    "plt.subplot(1, 3, 1)\n",
    "plt.hist(data[\"GDP2015\"])\n",
    "plt.xlabel('GDP - 2015')\n",
    "plt.ylabel('Frequency')\n",
    "\n",
    "#Frequency vs GDP-2016\n",
    "plt.subplot(1, 3, 2)\n",
    "plt.hist(data[\"GDP2016\"])\n",
    "plt.xlabel('GDP - 2016')\n",
    "plt.ylabel('Frequency')\n",
    "\n",
    "#Frequency vs GDP-2017\n",
    "plt.subplot(1, 3, 3)\n",
    "plt.hist(data[\"GDP2017\"])\n",
    "plt.xlabel('GDP - 2017')\n",
    "plt.ylabel('Frequency')\n",
    "\n",
    "plt.show()"
   ]
  },
  {
   "cell_type": "code",
   "execution_count": 25,
   "metadata": {},
   "outputs": [
    {
     "data": {
      "text/plain": [
       "ShapiroResult(statistic=0.9934812784194946, pvalue=0.6076387166976929)"
      ]
     },
     "execution_count": 25,
     "metadata": {},
     "output_type": "execute_result"
    }
   ],
   "source": [
    "#shapiro-wilk test\n",
    "stats.shapiro(data[\"GDP2015\"].apply(np.log))"
   ]
  },
  {
   "cell_type": "markdown",
   "metadata": {},
   "source": [
    "**Conclusion-2**\n",
    "\n",
    "* The Shapiro–Wilk test is a test of normality, and our result are in favour of null hypothesis i.e. data is from normal distribution."
   ]
  },
  {
   "cell_type": "code",
   "execution_count": 26,
   "metadata": {
    "scrolled": true
   },
   "outputs": [
    {
     "data": {
      "image/png": "[encoded data removed]",
      "text/plain": [
       "<Figure size 432x288 with 1 Axes>"
      ]
     },
     "metadata": {
      "needs_background": "light"
     },
     "output_type": "display_data"
    }
   ],
   "source": [
    "#ploting trend in GDP\n",
    "plt.scatter(data[\"GDP2015\"], data[\"GDP2016\"], c=\"blue\", marker=\"o\")\n",
    "plt.scatter(data[\"GDP2015\"], data[\"GDP2017\"], c=\"green\", marker=\"*\")\n",
    "plt.xlabel('GDP - 2016 and 2017')\n",
    "plt.ylabel('GDP - 2015')\n",
    "plt.title('GDP Plot')\n",
    "plt.show()"
   ]
  },
  {
   "cell_type": "code",
   "execution_count": 27,
   "metadata": {},
   "outputs": [
    {
     "data": {
      "image/png": "[encoded data removed]",
      "text/plain": [
       "<Figure size 1512x504 with 3 Axes>"
      ]
     },
     "metadata": {
      "needs_background": "light"
     },
     "output_type": "display_data"
    }
   ],
   "source": [
    "plt.figure(figsize=(21,7))\n",
    "\n",
    "#female population vs GDP for Year 2015\n",
    "plt.subplot(2, 3, 1)\n",
    "plt.scatter(data[\"GDP2015\"], data[\"FP2015\"])\n",
    "plt.xlabel('Female Population')\n",
    "plt.ylabel('GDP')\n",
    "plt.title('Year 2015')\n",
    "\n",
    "#female population vs GDP for Year 2016\n",
    "plt.subplot(2, 3, 2)\n",
    "plt.scatter(data[\"GDP2016\"], data[\"FP2016\"])\n",
    "plt.xlabel('Female Population')\n",
    "plt.ylabel('GDP')\n",
    "plt.title('Year 2016')\n",
    "\n",
    "#female population vs GDP for Year 2017\n",
    "plt.subplot(2, 3, 3)\n",
    "plt.scatter(data[\"GDP2017\"], data[\"FP2017\"])\n",
    "plt.xlabel('Female Population')\n",
    "plt.ylabel('GDP')\n",
    "plt.title('Year 2017')\n",
    "plt.show()"
   ]
  },
  {
   "cell_type": "markdown",
   "metadata": {},
   "source": [
    "**Conclusion-3**\n",
    "\n",
    "* Year 2015-2016-2017 have similar kind of distribution; because of the incremental nature of the countries who are performing well are showing the same type of result in consecutive years."
   ]
  },
  {
   "cell_type": "code",
   "execution_count": 28,
   "metadata": {
    "scrolled": false
   },
   "outputs": [
    {
     "data": {
      "image/png": "[encoded data removed]",
      "text/plain": [
       "<Figure size 432x288 with 1 Axes>"
      ]
     },
     "metadata": {
      "needs_background": "light"
     },
     "output_type": "display_data"
    }
   ],
   "source": [
    "#set height of bar\n",
    "GDP2015 = list(GDP.groupby(['Region']).sum()[\"GDP2015\"])\n",
    "GDP2016 = list(GDP.groupby(['Region']).sum()[\"GDP2016\"])\n",
    "GDP2017 = list(GDP.groupby(['Region']).sum()[\"GDP2017\"])\n",
    " \n",
    "#set position of bar on X axis\n",
    "pos1 = np.arange(len(GDP2015))\n",
    "pos2 = [x + 0.25 for x in pos1]\n",
    "pos3 = [x + 0.25 for x in pos2]\n",
    " \n",
    "#make the plot\n",
    "plt.bar(pos1, GDP2015, width=0.25, edgecolor='white', label='2015')\n",
    "plt.bar(pos2, GDP2016, width=0.25, edgecolor='white', label='2016')\n",
    "plt.bar(pos3, GDP2017, width=0.25, edgecolor='white', label='2017')\n",
    " \n",
    "#add xticks on the middle of the group bars\n",
    "plt.xticks(rotation=90)\n",
    "plt.xticks([r + 0.25 for r in range(len(GDP2015))], GDP.groupby(['Region']).sum()[\"GDP2015\"].keys())\n",
    " \n",
    "#create legend and show graphic\n",
    "plt.ylabel('GDP')\n",
    "plt.title('1.5 : GDP distribution by Region')\n",
    "plt.legend()\n",
    "plt.show()"
   ]
  },
  {
   "cell_type": "markdown",
   "metadata": {},
   "source": [
    "**Conclusion-4**\n",
    "\n",
    "* GDP for all the regions is in incremental way (ie GDP-2017 > GDP-2016 > GDP-2015).\n",
    "* GDP of `North America` and `Asian Region` is much higher compares with other regions; This is because `North America` is having `The United States` and `Asian Region` is having `China` which is contributing in the result."
   ]
  },
  {
   "cell_type": "markdown",
   "metadata": {},
   "source": [
    "**The strenght of the relationship - Cohen'1988**\n",
    "\n",
    "* `No Relationship`: `r=0`\n",
    "* `Small Relationship`: `0.10< r =<0.30`\n",
    "* `Medium Relationship`: `0.30< r =<0.50`\n",
    "* `Large Relationship`: `0.50< r =<1.00`"
   ]
  },
  {
   "cell_type": "code",
   "execution_count": 29,
   "metadata": {},
   "outputs": [
    {
     "name": "stdout",
     "output_type": "stream",
     "text": [
      "Correlation coffecient for Year 2015 - 0.6418891328023927\n"
     ]
    }
   ],
   "source": [
    "print(\"Correlation coffecient for Year 2015 - {}\".format(np.corrcoef(data[\"GDP2015\"], data[\"FP2015\"])[0, 1]))"
   ]
  },
  {
   "cell_type": "code",
   "execution_count": 30,
   "metadata": {},
   "outputs": [
    {
     "name": "stdout",
     "output_type": "stream",
     "text": [
      "Correlation coffecient for Year 2016 - 0.6386216650994347\n"
     ]
    }
   ],
   "source": [
    "print(\"Correlation coffecient for Year 2016 - {}\".format(np.corrcoef(data[\"GDP2016\"], data[\"FP2016\"])[0, 1]))"
   ]
  },
  {
   "cell_type": "code",
   "execution_count": 31,
   "metadata": {},
   "outputs": [
    {
     "name": "stdout",
     "output_type": "stream",
     "text": [
      "Correlation coffecient for Year 2017 - 0.6443823626301775\n"
     ]
    }
   ],
   "source": [
    "print(\"Correlation coffecient for Year 2017 - {}\".format(np.corrcoef(data[\"GDP2017\"], data[\"FP2017\"])[0, 1]))"
   ]
  },
  {
   "cell_type": "code",
   "execution_count": 32,
   "metadata": {},
   "outputs": [
    {
     "data": {
      "text/plain": [
       "LinregressResult(slope=0.501760922726129, intercept=2.9903797637300613, rvalue=0.6443823626301776, pvalue=1.6803699079655878e-22, stderr=0.04463096122828844, intercept_stderr=1.0885848912865956)"
      ]
     },
     "execution_count": 32,
     "metadata": {},
     "output_type": "execute_result"
    }
   ],
   "source": [
    "stats.linregress(data[\"GDP2017\"], data[\"FP2017\"])"
   ]
  },
  {
   "cell_type": "markdown",
   "metadata": {},
   "source": [
    "**Conclusion-5**\n",
    "\n",
    "As we can see that there is `strong statistically significant relationship` between country's women population and its Gross Domastic Product.\n",
    ">`rvalue = 0.64`\n",
    "> `pvalue = 1.58`"
   ]
  },
  {
   "cell_type": "markdown",
   "metadata": {},
   "source": [
    "### 1.4 Preparing Data"
   ]
  },
  {
   "cell_type": "code",
   "execution_count": 33,
   "metadata": {},
   "outputs": [],
   "source": [
    "#normalization - minmaxscaler\n",
    "for columnName in ['GDP2015','GDP2016','GDP2017','TP2015','TP2016','TP2017','FP2015','FP2016','FP2017','MP2015','MP2016','MP2017']:\n",
    "    data[columnName] = (data[columnName] - data[columnName].min())/(data[columnName].max() - data[columnName].min())"
   ]
  },
  {
   "cell_type": "code",
   "execution_count": 34,
   "metadata": {},
   "outputs": [],
   "source": [
    "#transforming data for model development\n",
    "A = data[[\"TP2015\",\"FP2015\",\"GDP2015\"]]\n",
    "B = data[[\"TP2016\",\"FP2016\",\"GDP2016\"]]\n",
    "C = data[[\"TP2017\",\"FP2017\",\"GDP2017\"]]\n",
    "\n",
    "A.columns = [\"TP\",\"FP\",\"GDP\"]\n",
    "B.columns = [\"TP\",\"FP\",\"GDP\"]\n",
    "C.columns = [\"TP\",\"FP\",\"GDP\"]\n",
    "\n",
    "modelData = pd.concat([A,B,C])"
   ]
  },
  {
   "cell_type": "code",
   "execution_count": 35,
   "metadata": {},
   "outputs": [],
   "source": [
    "# Extract feature column 'Text'\n",
    "X = modelData.drop([\"GDP\"], axis=1)\n",
    "# Extract target column 'Class'\n",
    "y = modelData[\"GDP\"]"
   ]
  },
  {
   "cell_type": "code",
   "execution_count": 36,
   "metadata": {},
   "outputs": [
    {
     "name": "stdout",
     "output_type": "stream",
     "text": [
      "Training set has 432 samples.\n",
      "Testing set has 108 samples.\n"
     ]
    }
   ],
   "source": [
    "#Shuffle and split the dataset into the number of training and testing points\n",
    "if True: \n",
    "    from sklearn.model_selection import train_test_split\n",
    "    X_train, X_test, y_train, y_test = train_test_split(X, y, test_size=0.20, train_size=0.80, random_state=42)\n",
    "\n",
    "# Show the results of the split\n",
    "print(\"Training set has {} samples.\".format(X_train.shape[0]))\n",
    "print(\"Testing set has {} samples.\".format(X_test.shape[0]))"
   ]
  },
  {
   "cell_type": "code",
   "execution_count": 37,
   "metadata": {},
   "outputs": [
    {
     "data": {
      "image/png": "[encoded data removed]",
      "text/plain": [
       "<Figure size 432x288 with 2 Axes>"
      ]
     },
     "metadata": {
      "needs_background": "light"
     },
     "output_type": "display_data"
    }
   ],
   "source": [
    "#corellation heatmap betweeen Total Population-Female Population-GDP\n",
    "sns.heatmap(modelData.corr());"
   ]
  },
  {
   "cell_type": "code",
   "execution_count": 38,
   "metadata": {},
   "outputs": [
    {
     "data": {
      "image/png": "[encoded data removed]",
      "text/plain": [
       "<Figure size 432x288 with 1 Axes>"
      ]
     },
     "metadata": {
      "needs_background": "light"
     },
     "output_type": "display_data"
    }
   ],
   "source": [
    "#plotting trend in GDP\n",
    "plt.scatter(modelData[\"TP\"], modelData[\"GDP\"] , c=\"blue\", marker=\"o\")\n",
    "plt.scatter(modelData[\"FP\"], modelData[\"GDP\"], c=\"green\", marker=\"*\")\n",
    "plt.xlabel('Population')\n",
    "plt.ylabel('GDP')\n",
    "plt.title('1.7 : Overall population vs GDP')\n",
    "plt.show()"
   ]
  },
  {
   "cell_type": "markdown",
   "metadata": {},
   "source": [
    "**Conclusion-6**\n",
    "\n",
    "* There is `no extreme outliers` and shows `Homoscedasticity`."
   ]
  },
  {
   "cell_type": "markdown",
   "metadata": {},
   "source": [
    "### 1.5 Training and Evaluation"
   ]
  },
  {
   "cell_type": "code",
   "execution_count": 39,
   "metadata": {},
   "outputs": [],
   "source": [
    "#import Linear Regression algorithm\n",
    "from sklearn.linear_model import LinearRegression"
   ]
  },
  {
   "cell_type": "code",
   "execution_count": 40,
   "metadata": {},
   "outputs": [],
   "source": [
    "#define Linear Regression\n",
    "linear = LinearRegression()"
   ]
  },
  {
   "cell_type": "code",
   "execution_count": 41,
   "metadata": {},
   "outputs": [
    {
     "data": {
      "text/plain": [
       "LinearRegression()"
      ]
     },
     "execution_count": 41,
     "metadata": {},
     "output_type": "execute_result"
    }
   ],
   "source": [
    "#fit training data\n",
    "linear.fit(X_train,y_train)"
   ]
  },
  {
   "cell_type": "code",
   "execution_count": 42,
   "metadata": {},
   "outputs": [
    {
     "data": {
      "text/plain": [
       "0.5916058417866803"
      ]
     },
     "execution_count": 42,
     "metadata": {},
     "output_type": "execute_result"
    }
   ],
   "source": [
    "#test data\n",
    "linear.score(X_test,y_test)"
   ]
  },
  {
   "cell_type": "code",
   "execution_count": 43,
   "metadata": {},
   "outputs": [],
   "source": [
    "m1, m2 = linear.coef_\n",
    "c = linear.intercept_\n",
    "line = (modelData[\"TP\"]*m1+modelData[\"FP\"]*m2)+ c"
   ]
  },
  {
   "cell_type": "code",
   "execution_count": 44,
   "metadata": {
    "scrolled": false
   },
   "outputs": [
    {
     "data": {
      "image/png": "[encoded data removed]",
      "text/plain": [
       "<Figure size 432x288 with 1 Axes>"
      ]
     },
     "metadata": {
      "needs_background": "light"
     },
     "output_type": "display_data"
    }
   ],
   "source": [
    "#ploting trend in GDP\n",
    "plt.scatter(modelData[\"TP\"], modelData[\"GDP\"] , c=\"blue\", marker=\"o\")\n",
    "plt.scatter(modelData[\"FP\"], modelData[\"GDP\"], c=\"green\", marker=\"*\")\n",
    "plt.scatter(modelData[\"FP\"], line, color='r')\n",
    "plt.xlabel('Population')\n",
    "plt.ylabel('GDP')\n",
    "plt.title('1.7 : Overall population vs GDP')\n",
    "plt.show()"
   ]
  },
  {
   "cell_type": "code",
   "execution_count": null,
   "metadata": {},
   "outputs": [],
   "source": []
  },
  {
   "cell_type": "code",
   "execution_count": null,
   "metadata": {},
   "outputs": [],
   "source": []
  },
  {
   "cell_type": "code",
   "execution_count": null,
   "metadata": {},
   "outputs": [],
   "source": []
  }
 ],
 "metadata": {
  "kernelspec": {
   "display_name": "Python 3 (ipykernel)",
   "language": "python",
   "name": "python3"
  },
  "language_info": {
   "codemirror_mode": {
    "name": "ipython",
    "version": 3
   },
   "file_extension": ".py",
   "mimetype": "text/x-python",
   "name": "python",
   "nbconvert_exporter": "python",
   "pygments_lexer": "ipython3",
   "version": "3.9.7"
  }
 },
 "nbformat": 4,
 "nbformat_minor": 2
}
